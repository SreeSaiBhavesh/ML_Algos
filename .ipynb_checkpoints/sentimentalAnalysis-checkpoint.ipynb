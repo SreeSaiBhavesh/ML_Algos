{
 "cells": [
  {
   "cell_type": "markdown",
   "id": "43461a9c",
   "metadata": {},
   "source": [
    "# Machine Learning Theory Da"
   ]
  },
  {
   "cell_type": "markdown",
   "id": "36830495",
   "metadata": {},
   "source": [
    "# Q. Sentimental Analysis Without TensorFlow"
   ]
  },
  {
   "cell_type": "markdown",
   "id": "aa83e9a7",
   "metadata": {},
   "source": [
    "# Name: V. Sree Sai Bhavesh\n",
    "# Reg No: 20BCE0348\n",
    "# Slot: D2+TD2"
   ]
  },
  {
   "cell_type": "code",
   "execution_count": 44,
   "id": "752f711d",
   "metadata": {},
   "outputs": [],
   "source": [
    "import numpy as np\n",
    "import bz2\n",
    "from sklearn.metrics import f1_score, roc_auc_score, accuracy_score\n",
    "import re\n",
    "from sklearn.feature_extraction.text import CountVectorizer\n",
    "from sklearn.linear_model import LogisticRegression\n",
    "from sklearn.ensemble import RandomForestClassifier\n",
    "from sklearn.metrics import accuracy_score, confusion_matrix, precision_score,recall_score\n",
    "from sklearn.model_selection import train_test_split"
   ]
  },
  {
   "cell_type": "code",
   "execution_count": 50,
   "id": "190158ec",
   "metadata": {},
   "outputs": [],
   "source": [
    "def convert_labels_text(file):\n",
    " labels = []\n",
    " texts = []\n",
    " for line in bz2.BZ2File(file):\n",
    "     x = line.decode(\"utf-8\")\n",
    "     labels.append(int(x[9]) - 1)\n",
    "     texts.append(x[10:].strip())\n",
    " return np.array(labels), texts\n",
    "train_labels, train_texts = convert_labels_text('train.ft.txt.bz2')\n",
    "test_labels, test_texts = convert_labels_text('test.ft.txt.bz2')"
   ]
  },
  {
   "cell_type": "code",
   "execution_count": 51,
   "id": "6062fa8c",
   "metadata": {},
   "outputs": [
    {
     "data": {
      "text/plain": [
       "array([1, 1, 1, ..., 0, 0, 1])"
      ]
     },
     "execution_count": 51,
     "metadata": {},
     "output_type": "execute_result"
    }
   ],
   "source": [
    "train_labels"
   ]
  },
  {
   "cell_type": "code",
   "execution_count": 52,
   "id": "14758411",
   "metadata": {},
   "outputs": [
    {
     "data": {
      "text/plain": [
       "'Amazing!: This soundtrack is my favorite music of all time, hands down. The intense sadness of \"Prisoners of Fate\" (which means all the more if you\\'ve played the game) and the hope in \"A Distant Promise\" and \"Girl who Stole the Star\" have been an important inspiration to me personally throughout my teen years. The higher energy tracks like \"Chrono Cross ~ Time\\'s Scar~\", \"Time of the Dreamwatch\", and \"Chronomantique\" (indefinably remeniscent of Chrono Trigger) are all absolutely superb as well.This soundtrack is amazing music, probably the best of this composer\\'s work (I haven\\'t heard the Xenogears soundtrack, so I can\\'t say for sure), and even if you\\'ve never played the game, it would be worth twice the price to buy it.I wish I could give it 6 stars.'"
      ]
     },
     "execution_count": 52,
     "metadata": {},
     "output_type": "execute_result"
    }
   ],
   "source": [
    "train_texts[2]"
   ]
  },
  {
   "cell_type": "code",
   "execution_count": 53,
   "id": "7a7ae511",
   "metadata": {},
   "outputs": [],
   "source": [
    "train_labels=train_labels[0:2000]\n",
    "train_texts=train_texts[0:2000]"
   ]
  },
  {
   "cell_type": "code",
   "execution_count": 54,
   "id": "1436e4ac",
   "metadata": {},
   "outputs": [
    {
     "data": {
      "text/plain": [
       "(2000,)"
      ]
     },
     "execution_count": 54,
     "metadata": {},
     "output_type": "execute_result"
    }
   ],
   "source": [
    "train_labels.shape"
   ]
  },
  {
   "cell_type": "code",
   "execution_count": 55,
   "id": "efae3aaa",
   "metadata": {},
   "outputs": [
    {
     "data": {
      "text/plain": [
       "2000"
      ]
     },
     "execution_count": 55,
     "metadata": {},
     "output_type": "execute_result"
    }
   ],
   "source": [
    "len(train_texts)"
   ]
  },
  {
   "cell_type": "code",
   "execution_count": 57,
   "id": "157f9ce4",
   "metadata": {},
   "outputs": [],
   "source": [
    "NON_ALPHANUM = re.compile(r'[\\W]')\n",
    "NON_ASCII = re.compile(r'[^a-z0-1\\s]')\n",
    "def normalize_texts(texts):\n",
    "    normalized_texts = []\n",
    "    for text in texts:\n",
    "        lower = text.lower()\n",
    "        no_punctuation = NON_ALPHANUM.sub(r' ', lower)\n",
    "        no_non_ascii = NON_ASCII.sub(r'', no_punctuation)\n",
    "        normalized_texts.append(no_non_ascii)\n",
    "    return normalized_texts\n",
    "\n",
    "train_texts = normalize_texts(train_texts)\n",
    "test_texts = normalize_texts(test_texts)"
   ]
  },
  {
   "cell_type": "code",
   "execution_count": 58,
   "id": "e3fa5ec1",
   "metadata": {},
   "outputs": [
    {
     "data": {
      "text/plain": [
       "'amazing   this soundtrack is my favorite music of all time  hands down  the intense sadness of  prisoners of fate   which means all the more if you ve played the game  and the hope in  a distant promise  and  girl who stole the star  have been an important inspiration to me personally throughout my teen years  the higher energy tracks like  chrono cross   time s scar     time of the dreamwatch   and  chronomantique   indefinably remeniscent of chrono trigger  are all absolutely superb as well this soundtrack is amazing music  probably the best of this composer s work  i haven t heard the xenogears soundtrack  so i can t say for sure   and even if you ve never played the game  it would be worth twice the price to buy it i wish i could give it  stars '"
      ]
     },
     "execution_count": 58,
     "metadata": {},
     "output_type": "execute_result"
    }
   ],
   "source": [
    "train_texts[2]"
   ]
  },
  {
   "cell_type": "code",
   "execution_count": 59,
   "id": "7ba5b48e",
   "metadata": {},
   "outputs": [],
   "source": [
    "cv = CountVectorizer(binary=True)\n",
    "cv.fit(train_texts)\n",
    "X = cv.transform(train_texts)\n",
    "X_test = cv.transform(test_texts)\n"
   ]
  },
  {
   "cell_type": "code",
   "execution_count": 60,
   "id": "34a817b4",
   "metadata": {},
   "outputs": [
    {
     "data": {
      "text/plain": [
       "<400000x12468 sparse matrix of type '<class 'numpy.int64'>'\n",
       "\twith 20049996 stored elements in Compressed Sparse Row format>"
      ]
     },
     "execution_count": 60,
     "metadata": {},
     "output_type": "execute_result"
    }
   ],
   "source": [
    "\n",
    "X_test"
   ]
  },
  {
   "cell_type": "code",
   "execution_count": 61,
   "id": "a601b90a",
   "metadata": {},
   "outputs": [
    {
     "data": {
      "text/plain": [
       "RandomForestClassifier(n_estimators=5)"
      ]
     },
     "execution_count": 61,
     "metadata": {},
     "output_type": "execute_result"
    }
   ],
   "source": [
    "X_train, X_val, y_train, y_val = train_test_split(X, train_labels, train_size = 0.75)\n",
    "lr = LogisticRegression(C = 0.05)\n",
    "lr.fit(X_train, y_train)\n",
    "rf = RandomForestClassifier(n_estimators=5)\n",
    "rf.fit(X_train, y_train)"
   ]
  },
  {
   "cell_type": "code",
   "execution_count": 62,
   "id": "b073d5aa",
   "metadata": {},
   "outputs": [
    {
     "name": "stdout",
     "output_type": "stream",
     "text": [
      "--------------Metrics for Logistic Regression--------------\n",
      "\n",
      "Accuracy: 0.95 \n",
      "Confusion Matrix:\n",
      "[[733  37]\n",
      " [ 38 692]]\n",
      "Precision: 0.9492455418381345 \n",
      "Recall: 0.947945205479452 \n",
      "\n",
      "--------------Metrics for Random Forest--------------\n",
      "\n",
      "Accuracy: 0.9693333333333334 \n",
      "Confusion Matrix:\n",
      "[[750  20]\n",
      " [ 26 704]]\n",
      "Precision: 0.9723756906077348 \n",
      "Recall: 0.9643835616438357 \n"
     ]
    }
   ],
   "source": [
    "\n",
    "print(\"--------------Metrics for Logistic Regression--------------\\n\")\n",
    "print(f\"Accuracy: {accuracy_score(y_train, lr.predict(X_train))} \")\n",
    "print(f\"Confusion Matrix:\\n{confusion_matrix(y_train, lr.predict(X_train))}\")\n",
    "print(f\"Precision: {precision_score(y_train, lr.predict(X_train))} \")\n",
    "print(f\"Recall: {recall_score(y_train, lr.predict(X_train))} \")\n",
    "print(\"\\n--------------Metrics for Random Forest--------------\\n\")\n",
    "print(f\"Accuracy: {accuracy_score(y_train, rf.predict(X_train))} \")\n",
    "print(f\"Confusion Matrix:\\n{confusion_matrix(y_train, rf.predict(X_train))}\")\n",
    "print(f\"Precision: {precision_score(y_train, rf.predict(X_train))} \")\n",
    "print(f\"Recall: {recall_score(y_train, rf.predict(X_train))} \")\n"
   ]
  },
  {
   "cell_type": "code",
   "execution_count": null,
   "id": "07a31442",
   "metadata": {},
   "outputs": [],
   "source": []
  }
 ],
 "metadata": {
  "kernelspec": {
   "display_name": "Python 3 (ipykernel)",
   "language": "python",
   "name": "python3"
  },
  "language_info": {
   "codemirror_mode": {
    "name": "ipython",
    "version": 3
   },
   "file_extension": ".py",
   "mimetype": "text/x-python",
   "name": "python",
   "nbconvert_exporter": "python",
   "pygments_lexer": "ipython3",
   "version": "3.9.7"
  }
 },
 "nbformat": 4,
 "nbformat_minor": 5
}
